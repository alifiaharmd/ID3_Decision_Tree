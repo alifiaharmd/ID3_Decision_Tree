{
  "nbformat": 4,
  "nbformat_minor": 0,
  "metadata": {
    "colab": {
      "name": "13302447_A2_Machine_Learning.ipynb",
      "provenance": [],
      "collapsed_sections": [
        "2PsuzV7waVHJ",
        "URS7Xue3wOrn",
        "0AV4JR1PweX6",
        "Z1RQo5U52-s0",
        "PFa4oqY_2--D"
      ]
    },
    "kernelspec": {
      "name": "python3",
      "display_name": "Python 3"
    }
  },
  "cells": [
    {
      "cell_type": "markdown",
      "metadata": {
        "id": "eYeF0okbFP2A"
      },
      "source": [
        "#**Assesment 2: Algorithm Implementation and Report**\n",
        "\n",
        "##Implementation of ID3 Decision Tree Algorithm\n",
        "\n",
        "**Student Name:** Alifia Cesarina Harmadi\n",
        "\n",
        "**Student ID:** 13302447"
      ]
    },
    {
      "cell_type": "markdown",
      "metadata": {
        "id": "S1uFCZdhGAgI"
      },
      "source": [
        "##Import the required libraries"
      ]
    },
    {
      "cell_type": "code",
      "metadata": {
        "id": "afmZK7nBFLMR"
      },
      "source": [
        "import pandas as pd\n",
        "import numpy as np\n",
        "from sklearn import datasets\n",
        "from sklearn.model_selection import train_test_split"
      ],
      "execution_count": null,
      "outputs": []
    },
    {
      "cell_type": "markdown",
      "metadata": {
        "id": "2nGL8n6fG-cz"
      },
      "source": [
        "##Load dataset"
      ]
    },
    {
      "cell_type": "markdown",
      "metadata": {
        "id": "2PsuzV7waVHJ"
      },
      "source": [
        "###Experimet Datasets"
      ]
    },
    {
      "cell_type": "markdown",
      "metadata": {
        "id": "ZBcc3w757uzM"
      },
      "source": [
        "**TITANIC DATASET**\n",
        "\n",
        "Install the kaggle requirement for downloading the dataset\n"
      ]
    },
    {
      "cell_type": "code",
      "metadata": {
        "id": "gBzdvduJ7JlF",
        "colab": {
          "base_uri": "https://localhost:8080/"
        },
        "outputId": "c382f80a-d539-4406-b5dd-49b2d2dcab3a"
      },
      "source": [
        "!mkdir ~/.kaggle #create the .kaggle folder in your root directory\n",
        "!echo '{\"username\":\"alifiaharmd\",\"key\":\"0082f87b67920b9556fd7276d3a73519\"}' > ~/.kaggle/kaggle.json #write kaggle API credentials to kaggle.json\n",
        "!chmod 600 ~/.kaggle/kaggle.json  # set permissions\n",
        "!pip install kaggle #install the kaggle library\n",
        "!kaggle datasets list -s {KEYWORD}"
      ],
      "execution_count": null,
      "outputs": [
        {
          "output_type": "stream",
          "text": [
            "Requirement already satisfied: kaggle in /usr/local/lib/python3.6/dist-packages (1.5.9)\n",
            "Requirement already satisfied: six>=1.10 in /usr/local/lib/python3.6/dist-packages (from kaggle) (1.15.0)\n",
            "Requirement already satisfied: certifi in /usr/local/lib/python3.6/dist-packages (from kaggle) (2020.6.20)\n",
            "Requirement already satisfied: python-dateutil in /usr/local/lib/python3.6/dist-packages (from kaggle) (2.8.1)\n",
            "Requirement already satisfied: python-slugify in /usr/local/lib/python3.6/dist-packages (from kaggle) (4.0.1)\n",
            "Requirement already satisfied: slugify in /usr/local/lib/python3.6/dist-packages (from kaggle) (0.0.1)\n",
            "Requirement already satisfied: urllib3 in /usr/local/lib/python3.6/dist-packages (from kaggle) (1.24.3)\n",
            "Requirement already satisfied: tqdm in /usr/local/lib/python3.6/dist-packages (from kaggle) (4.41.1)\n",
            "Requirement already satisfied: requests in /usr/local/lib/python3.6/dist-packages (from kaggle) (2.23.0)\n",
            "Requirement already satisfied: text-unidecode>=1.3 in /usr/local/lib/python3.6/dist-packages (from python-slugify->kaggle) (1.3)\n",
            "Requirement already satisfied: chardet<4,>=3.0.2 in /usr/local/lib/python3.6/dist-packages (from requests->kaggle) (3.0.4)\n",
            "Requirement already satisfied: idna<3,>=2.5 in /usr/local/lib/python3.6/dist-packages (from requests->kaggle) (2.10)\n",
            "Warning: Looks like you're using an outdated API Version, please consider updating (server 1.5.9 / client 1.5.4)\n",
            "ref                                                            title                                                size  lastUpdated          downloadCount  \n",
            "-------------------------------------------------------------  --------------------------------------------------  -----  -------------------  -------------  \n",
            "eliasdabbas/search-engine-results-flights-tickets-keywords     Search Engine Results - Flights & Tickets Keywords   34MB  2020-04-02 23:18:26           3003  \n",
            "paultimothymooney/covid19-containment-and-mitigation-measures  COVID-19 containment and mitigation measures        141KB  2020-10-30 15:53:35           3442  \n",
            "vstepanenko/disaster-tweets                                    Disaster Tweets                                     656KB  2020-09-07 12:54:53            180  \n",
            "eliasdabbas/recipes-search-engine-results-data                 Recipes Search Engine Results Data                    7MB  2019-03-30 12:24:02            259  \n",
            "samdeeplearning/deepnlp                                        Deep-NLP                                            234KB  2017-03-01 05:43:51           5668  \n",
            "taniaj/australian-election-2019-tweets                         Australian Election 2019 Tweets                      29MB  2019-05-21 09:41:38           4114  \n",
            "alifarsi/facebook-keyword-extraction-competition               Facebook keyword extraction competition               3GB  2017-11-21 15:48:05            317  \n",
            "ashkangoharfar/sites-information-data-from-alexacom-dataset    Effective SEO parameters for all types of websites    3MB  2020-06-16 11:00:36            160  \n",
            "bobconbob/4chan4trump                                          4chan.org/pol forum posts with keyword Trump         21MB  2017-07-02 14:56:28            128  \n",
            "vbmokin/nlp-with-disaster-tweets-cleaning-data                 NLP with Disaster Tweets - cleaning data            515KB  2020-07-12 18:07:38            134  \n",
            "biomimic/periodic-table-of-elements-mapped-to-stocks           Periodic Table of Elements Mapped to Stocks         999KB  2017-05-25 05:52:52            509  \n",
            "lopezbec/covid19-tweets-dataset                                COVID-19 Tweets Dataset                               4GB  2020-10-07 13:25:43            461  \n",
            "aanhari/alexa-dataset                                          Alexa Dataset                                        29MB  2018-04-22 22:14:44            976  \n",
            "hofesiy/2019-search-engine-keywords                            2017-2019 Search Engine Keywords                      5GB  2020-01-27 16:09:18             90  \n",
            "thehapyone/uci-online-news-popularity-data-set                 UCI Online News Popularity Data Set                   7MB  2019-10-04 07:36:10            135  \n",
            "fifthtribe/how-isis-uses-twitter                               How ISIS Uses Twitter                                 2MB  2019-11-14 06:50:54           7049  \n",
            "kmader/helen-eye-dataset                                       Helen Eye Dataset                                   438MB  2018-12-14 15:02:59            936  \n",
            "harriken/employeeturnover                                      Daily Happiness & Employee Turnover                   4MB  2017-08-07 09:12:12           4084  \n",
            "danishsaeed15/tweets-with-keyword-lockdown-in-apriljuly-2020   Tweets with keyword \"lockdown\" in April-July 2020     8MB  2020-09-01 15:22:43             22  \n",
            "jmmvutu/summer-products-and-sales-in-ecommerce-wish            Sales of summer clothes in E-commerce Wish          376KB  2020-08-23 15:16:46           9334  \n"
          ],
          "name": "stdout"
        }
      ]
    },
    {
      "cell_type": "markdown",
      "metadata": {
        "id": "E3QyYrqR7Wmu"
      },
      "source": [
        "Downlaod dataset from kaggle"
      ]
    },
    {
      "cell_type": "code",
      "metadata": {
        "id": "pXWDMZDU7d3W",
        "colab": {
          "base_uri": "https://localhost:8080/"
        },
        "outputId": "e76a59a9-3ddd-4b3b-babe-76b32a3c4ba2"
      },
      "source": [
        "!kaggle datasets download -d alifiaharmd/titanic-incident\n",
        "!ls #Check the list"
      ],
      "execution_count": null,
      "outputs": [
        {
          "output_type": "stream",
          "text": [
            "Downloading titanic-incident.zip to /content\n",
            "\r  0% 0.00/22.0k [00:00<?, ?B/s]\n",
            "\r100% 22.0k/22.0k [00:00<00:00, 8.62MB/s]\n",
            "sample_data  titanic-incident.zip\n"
          ],
          "name": "stdout"
        }
      ]
    },
    {
      "cell_type": "markdown",
      "metadata": {
        "id": "XwgoQ_ZO8V5D"
      },
      "source": [
        "Unzipping the data file"
      ]
    },
    {
      "cell_type": "code",
      "metadata": {
        "id": "uqMiRFst8abA",
        "colab": {
          "base_uri": "https://localhost:8080/"
        },
        "outputId": "a9e3261f-a220-4cbd-de7f-4eff3518534d"
      },
      "source": [
        "!unzip \\*.zip  && rm *.zip"
      ],
      "execution_count": null,
      "outputs": [
        {
          "output_type": "stream",
          "text": [
            "Archive:  titanic-incident.zip\n",
            "  inflating: titanic.csv             \n"
          ],
          "name": "stdout"
        }
      ]
    },
    {
      "cell_type": "markdown",
      "metadata": {
        "id": "BZ6IhSAi8mDw"
      },
      "source": [
        "Read the dataset"
      ]
    },
    {
      "cell_type": "code",
      "metadata": {
        "id": "VUkEblgu8igd",
        "colab": {
          "base_uri": "https://localhost:8080/",
          "height": 504
        },
        "outputId": "91878881-630b-41e4-ed3c-0380d2e4c5aa"
      },
      "source": [
        "df = pd.read_csv (r'titanic.csv')\n",
        "df.head()"
      ],
      "execution_count": null,
      "outputs": [
        {
          "output_type": "execute_result",
          "data": {
            "text/html": [
              "<div>\n",
              "<style scoped>\n",
              "    .dataframe tbody tr th:only-of-type {\n",
              "        vertical-align: middle;\n",
              "    }\n",
              "\n",
              "    .dataframe tbody tr th {\n",
              "        vertical-align: top;\n",
              "    }\n",
              "\n",
              "    .dataframe thead th {\n",
              "        text-align: right;\n",
              "    }\n",
              "</style>\n",
              "<table border=\"1\" class=\"dataframe\">\n",
              "  <thead>\n",
              "    <tr style=\"text-align: right;\">\n",
              "      <th></th>\n",
              "      <th>PassengerId</th>\n",
              "      <th>Survived</th>\n",
              "      <th>Pclass</th>\n",
              "      <th>Name</th>\n",
              "      <th>Sex</th>\n",
              "      <th>Age</th>\n",
              "      <th>SibSp</th>\n",
              "      <th>Parch</th>\n",
              "      <th>Ticket</th>\n",
              "      <th>Fare</th>\n",
              "      <th>Cabin</th>\n",
              "      <th>Embarked</th>\n",
              "    </tr>\n",
              "  </thead>\n",
              "  <tbody>\n",
              "    <tr>\n",
              "      <th>0</th>\n",
              "      <td>1</td>\n",
              "      <td>0</td>\n",
              "      <td>3</td>\n",
              "      <td>Braund, Mr. Owen Harris</td>\n",
              "      <td>male</td>\n",
              "      <td>22.0</td>\n",
              "      <td>1</td>\n",
              "      <td>0</td>\n",
              "      <td>A/5 21171</td>\n",
              "      <td>7.2500</td>\n",
              "      <td>NaN</td>\n",
              "      <td>S</td>\n",
              "    </tr>\n",
              "    <tr>\n",
              "      <th>1</th>\n",
              "      <td>2</td>\n",
              "      <td>1</td>\n",
              "      <td>1</td>\n",
              "      <td>Cumings, Mrs. John Bradley (Florence Briggs Th...</td>\n",
              "      <td>female</td>\n",
              "      <td>38.0</td>\n",
              "      <td>1</td>\n",
              "      <td>0</td>\n",
              "      <td>PC 17599</td>\n",
              "      <td>71.2833</td>\n",
              "      <td>C85</td>\n",
              "      <td>C</td>\n",
              "    </tr>\n",
              "    <tr>\n",
              "      <th>2</th>\n",
              "      <td>3</td>\n",
              "      <td>1</td>\n",
              "      <td>3</td>\n",
              "      <td>Heikkinen, Miss. Laina</td>\n",
              "      <td>female</td>\n",
              "      <td>26.0</td>\n",
              "      <td>0</td>\n",
              "      <td>0</td>\n",
              "      <td>STON/O2. 3101282</td>\n",
              "      <td>7.9250</td>\n",
              "      <td>NaN</td>\n",
              "      <td>S</td>\n",
              "    </tr>\n",
              "    <tr>\n",
              "      <th>3</th>\n",
              "      <td>4</td>\n",
              "      <td>1</td>\n",
              "      <td>1</td>\n",
              "      <td>Futrelle, Mrs. Jacques Heath (Lily May Peel)</td>\n",
              "      <td>female</td>\n",
              "      <td>35.0</td>\n",
              "      <td>1</td>\n",
              "      <td>0</td>\n",
              "      <td>113803</td>\n",
              "      <td>53.1000</td>\n",
              "      <td>C123</td>\n",
              "      <td>S</td>\n",
              "    </tr>\n",
              "    <tr>\n",
              "      <th>4</th>\n",
              "      <td>5</td>\n",
              "      <td>0</td>\n",
              "      <td>3</td>\n",
              "      <td>Allen, Mr. William Henry</td>\n",
              "      <td>male</td>\n",
              "      <td>35.0</td>\n",
              "      <td>0</td>\n",
              "      <td>0</td>\n",
              "      <td>373450</td>\n",
              "      <td>8.0500</td>\n",
              "      <td>NaN</td>\n",
              "      <td>S</td>\n",
              "    </tr>\n",
              "  </tbody>\n",
              "</table>\n",
              "</div>"
            ],
            "text/plain": [
              "   PassengerId  Survived  Pclass  ...     Fare Cabin  Embarked\n",
              "0            1         0       3  ...   7.2500   NaN         S\n",
              "1            2         1       1  ...  71.2833   C85         C\n",
              "2            3         1       3  ...   7.9250   NaN         S\n",
              "3            4         1       1  ...  53.1000  C123         S\n",
              "4            5         0       3  ...   8.0500   NaN         S\n",
              "\n",
              "[5 rows x 12 columns]"
            ]
          },
          "metadata": {
            "tags": []
          },
          "execution_count": 5
        }
      ]
    },
    {
      "cell_type": "markdown",
      "metadata": {
        "id": "jTmYH6mvjucK"
      },
      "source": [
        "**TITANIC DATASET PREPARATION**"
      ]
    },
    {
      "cell_type": "code",
      "metadata": {
        "id": "sjAuWy76jxzo",
        "colab": {
          "base_uri": "https://localhost:8080/"
        },
        "outputId": "f8053c22-7390-4cd2-c82c-22996dcf1abe"
      },
      "source": [
        "print('Data shape:', df.shape)\n",
        "print('Data missing value info:\\n', df.isnull().sum())"
      ],
      "execution_count": null,
      "outputs": [
        {
          "output_type": "stream",
          "text": [
            "Data shape: (891, 12)\n",
            "Data missing value info:\n",
            " PassengerId      0\n",
            "Survived         0\n",
            "Pclass           0\n",
            "Name             0\n",
            "Sex              0\n",
            "Age            177\n",
            "SibSp            0\n",
            "Parch            0\n",
            "Ticket           0\n",
            "Fare             0\n",
            "Cabin          687\n",
            "Embarked         2\n",
            "dtype: int64\n"
          ],
          "name": "stdout"
        }
      ]
    },
    {
      "cell_type": "code",
      "metadata": {
        "id": "vfhvgBp3j7cP",
        "colab": {
          "base_uri": "https://localhost:8080/"
        },
        "outputId": "d9f67812-82a0-45d4-c0d8-6c9f1b841b41"
      },
      "source": [
        "df = df.drop(['SibSp','Parch','Ticket','Fare','Cabin'], axis=1)\n",
        "print('Data missing value info:\\n', df.isnull().sum())"
      ],
      "execution_count": null,
      "outputs": [
        {
          "output_type": "stream",
          "text": [
            "Data missing value info:\n",
            " PassengerId      0\n",
            "Survived         0\n",
            "Pclass           0\n",
            "Name             0\n",
            "Sex              0\n",
            "Age            177\n",
            "Embarked         2\n",
            "dtype: int64\n"
          ],
          "name": "stdout"
        }
      ]
    },
    {
      "cell_type": "code",
      "metadata": {
        "id": "Mhyn7dZGj9Bi",
        "colab": {
          "base_uri": "https://localhost:8080/"
        },
        "outputId": "bb1eaa52-8aef-4e81-ab72-d8f5caa43611"
      },
      "source": [
        "df['Age'] = df['Age'].replace(np.nan, 0)\n",
        "df['Embarked'] = df['Embarked'].replace(np.nan, 'Unknown')\n",
        "print('Data missing value info:\\n', df.isnull().sum())"
      ],
      "execution_count": null,
      "outputs": [
        {
          "output_type": "stream",
          "text": [
            "Data missing value info:\n",
            " PassengerId    0\n",
            "Survived       0\n",
            "Pclass         0\n",
            "Name           0\n",
            "Sex            0\n",
            "Age            0\n",
            "Embarked       0\n",
            "dtype: int64\n"
          ],
          "name": "stdout"
        }
      ]
    },
    {
      "cell_type": "code",
      "metadata": {
        "id": "-R1S1KuXj_zc",
        "colab": {
          "base_uri": "https://localhost:8080/",
          "height": 486
        },
        "outputId": "a4f7a46c-f676-440a-b432-16eb69a411b4"
      },
      "source": [
        "new = df[\"Name\"].str.split(\",\", n = 1, expand = True) \n",
        "df[\"First Name\"]= new[0] \n",
        "df[\"Last Name\"]= new[1] \n",
        "\n",
        "# Dropping old Name columns \n",
        "df.drop(columns =[\"Name\"], inplace = True) \n",
        "df.head()"
      ],
      "execution_count": null,
      "outputs": [
        {
          "output_type": "execute_result",
          "data": {
            "text/html": [
              "<div>\n",
              "<style scoped>\n",
              "    .dataframe tbody tr th:only-of-type {\n",
              "        vertical-align: middle;\n",
              "    }\n",
              "\n",
              "    .dataframe tbody tr th {\n",
              "        vertical-align: top;\n",
              "    }\n",
              "\n",
              "    .dataframe thead th {\n",
              "        text-align: right;\n",
              "    }\n",
              "</style>\n",
              "<table border=\"1\" class=\"dataframe\">\n",
              "  <thead>\n",
              "    <tr style=\"text-align: right;\">\n",
              "      <th></th>\n",
              "      <th>PassengerId</th>\n",
              "      <th>Survived</th>\n",
              "      <th>Pclass</th>\n",
              "      <th>Sex</th>\n",
              "      <th>Age</th>\n",
              "      <th>Embarked</th>\n",
              "      <th>First Name</th>\n",
              "      <th>Last Name</th>\n",
              "    </tr>\n",
              "  </thead>\n",
              "  <tbody>\n",
              "    <tr>\n",
              "      <th>0</th>\n",
              "      <td>1</td>\n",
              "      <td>0</td>\n",
              "      <td>3</td>\n",
              "      <td>male</td>\n",
              "      <td>22.0</td>\n",
              "      <td>S</td>\n",
              "      <td>Braund</td>\n",
              "      <td>Mr. Owen Harris</td>\n",
              "    </tr>\n",
              "    <tr>\n",
              "      <th>1</th>\n",
              "      <td>2</td>\n",
              "      <td>1</td>\n",
              "      <td>1</td>\n",
              "      <td>female</td>\n",
              "      <td>38.0</td>\n",
              "      <td>C</td>\n",
              "      <td>Cumings</td>\n",
              "      <td>Mrs. John Bradley (Florence Briggs Thayer)</td>\n",
              "    </tr>\n",
              "    <tr>\n",
              "      <th>2</th>\n",
              "      <td>3</td>\n",
              "      <td>1</td>\n",
              "      <td>3</td>\n",
              "      <td>female</td>\n",
              "      <td>26.0</td>\n",
              "      <td>S</td>\n",
              "      <td>Heikkinen</td>\n",
              "      <td>Miss. Laina</td>\n",
              "    </tr>\n",
              "    <tr>\n",
              "      <th>3</th>\n",
              "      <td>4</td>\n",
              "      <td>1</td>\n",
              "      <td>1</td>\n",
              "      <td>female</td>\n",
              "      <td>35.0</td>\n",
              "      <td>S</td>\n",
              "      <td>Futrelle</td>\n",
              "      <td>Mrs. Jacques Heath (Lily May Peel)</td>\n",
              "    </tr>\n",
              "    <tr>\n",
              "      <th>4</th>\n",
              "      <td>5</td>\n",
              "      <td>0</td>\n",
              "      <td>3</td>\n",
              "      <td>male</td>\n",
              "      <td>35.0</td>\n",
              "      <td>S</td>\n",
              "      <td>Allen</td>\n",
              "      <td>Mr. William Henry</td>\n",
              "    </tr>\n",
              "  </tbody>\n",
              "</table>\n",
              "</div>"
            ],
            "text/plain": [
              "   PassengerId  ...                                    Last Name\n",
              "0            1  ...                              Mr. Owen Harris\n",
              "1            2  ...   Mrs. John Bradley (Florence Briggs Thayer)\n",
              "2            3  ...                                  Miss. Laina\n",
              "3            4  ...           Mrs. Jacques Heath (Lily May Peel)\n",
              "4            5  ...                            Mr. William Henry\n",
              "\n",
              "[5 rows x 8 columns]"
            ]
          },
          "metadata": {
            "tags": []
          },
          "execution_count": 9
        }
      ]
    },
    {
      "cell_type": "markdown",
      "metadata": {
        "id": "Jsr6sTvp8u9R"
      },
      "source": [
        "**PUBLIC TRANSPORTATION DATASET**"
      ]
    },
    {
      "cell_type": "code",
      "metadata": {
        "id": "MQeBw4P3O5dT",
        "colab": {
          "base_uri": "https://localhost:8080/",
          "height": 226
        },
        "outputId": "3924e1d4-07b0-4bc6-bf2a-f608b016fada"
      },
      "source": [
        "#Write the data\n",
        "_raw_data = \"\"\"Gender,Car_Ownership,Travel_Cost,Income_Level,Transportation\n",
        "Male,0,Cheap,Low,Bus\n",
        "Male,1,Cheap,Medium,Bus\n",
        "Female,1,Cheap,Medium,Bus\n",
        "Female,0,Cheap,Medium,Train\n",
        "Male,1,Cheap,Medium,Bus\n",
        "Male,0,Standard,Medium,Train\n",
        "Female,1,Standard,Medium,Train\n",
        "Female,1,Expensive,High,Car\n",
        "Male,2,Expensive,Medium,Car\n",
        "Female,2,Expensive,High,Car\n",
        "\"\"\"\n",
        "\n",
        "#Store it to the 'public_trans.csv' file\n",
        "with open(\"public_trans.csv\", \"w\") as f:\n",
        "    f.write(_raw_data)\n",
        "df = pd.read_csv(\"public_trans.csv\")\n",
        "df.head()"
      ],
      "execution_count": null,
      "outputs": [
        {
          "output_type": "execute_result",
          "data": {
            "text/html": [
              "<div>\n",
              "<style scoped>\n",
              "    .dataframe tbody tr th:only-of-type {\n",
              "        vertical-align: middle;\n",
              "    }\n",
              "\n",
              "    .dataframe tbody tr th {\n",
              "        vertical-align: top;\n",
              "    }\n",
              "\n",
              "    .dataframe thead th {\n",
              "        text-align: right;\n",
              "    }\n",
              "</style>\n",
              "<table border=\"1\" class=\"dataframe\">\n",
              "  <thead>\n",
              "    <tr style=\"text-align: right;\">\n",
              "      <th></th>\n",
              "      <th>Gender</th>\n",
              "      <th>Car_Ownership</th>\n",
              "      <th>Travel_Cost</th>\n",
              "      <th>Income_Level</th>\n",
              "      <th>Transportation</th>\n",
              "    </tr>\n",
              "  </thead>\n",
              "  <tbody>\n",
              "    <tr>\n",
              "      <th>0</th>\n",
              "      <td>Male</td>\n",
              "      <td>0</td>\n",
              "      <td>Cheap</td>\n",
              "      <td>Low</td>\n",
              "      <td>Bus</td>\n",
              "    </tr>\n",
              "    <tr>\n",
              "      <th>1</th>\n",
              "      <td>Male</td>\n",
              "      <td>1</td>\n",
              "      <td>Cheap</td>\n",
              "      <td>Medium</td>\n",
              "      <td>Bus</td>\n",
              "    </tr>\n",
              "    <tr>\n",
              "      <th>2</th>\n",
              "      <td>Female</td>\n",
              "      <td>1</td>\n",
              "      <td>Cheap</td>\n",
              "      <td>Medium</td>\n",
              "      <td>Bus</td>\n",
              "    </tr>\n",
              "    <tr>\n",
              "      <th>3</th>\n",
              "      <td>Female</td>\n",
              "      <td>0</td>\n",
              "      <td>Cheap</td>\n",
              "      <td>Medium</td>\n",
              "      <td>Train</td>\n",
              "    </tr>\n",
              "    <tr>\n",
              "      <th>4</th>\n",
              "      <td>Male</td>\n",
              "      <td>1</td>\n",
              "      <td>Cheap</td>\n",
              "      <td>Medium</td>\n",
              "      <td>Bus</td>\n",
              "    </tr>\n",
              "  </tbody>\n",
              "</table>\n",
              "</div>"
            ],
            "text/plain": [
              "   Gender  Car_Ownership Travel_Cost Income_Level Transportation\n",
              "0    Male              0       Cheap          Low            Bus\n",
              "1    Male              1       Cheap       Medium            Bus\n",
              "2  Female              1       Cheap       Medium            Bus\n",
              "3  Female              0       Cheap       Medium          Train\n",
              "4    Male              1       Cheap       Medium            Bus"
            ]
          },
          "metadata": {
            "tags": []
          },
          "execution_count": 10
        }
      ]
    },
    {
      "cell_type": "markdown",
      "metadata": {
        "id": "Mt6hkYOS9Bxl"
      },
      "source": [
        "**COVID-19 DATASET**"
      ]
    },
    {
      "cell_type": "code",
      "metadata": {
        "id": "AGEOTJDyQYkV",
        "colab": {
          "base_uri": "https://localhost:8080/",
          "height": 226
        },
        "outputId": "455226a6-1119-4fa0-9c7e-e408236babb9"
      },
      "source": [
        "#Write the dataset\n",
        "_raw_data = \"\"\"Fever,Cough,Breathing_issues,Infected\n",
        "No,No,No,No\n",
        "Yes,Yes,Yes,Yes\n",
        "Yes,Yes,No,No\n",
        "Yes,No,Yes,Yes\n",
        "Yes,Yes,Yes,Yes\n",
        "No,Yes,No,No\n",
        "Yes,No,Yes,Yes\n",
        "Yes,No,Yes,Yes\n",
        "No,Yes,Yes,Yes\n",
        "Yes,Yes,No,Yes\n",
        "No,Yes,No,No\n",
        "No,Yes,Yes,Yes\n",
        "No,Yes,Yes,No\n",
        "No,Yes,Yes,No\n",
        "Yes,Yes,No,No\n",
        "\"\"\"\n",
        "#Store it to the 'COVID.csv' file\n",
        "with open(\"COVID.csv\", \"w\") as f:\n",
        "    f.write(_raw_data)\n",
        "df = pd.read_csv(\"COVID.csv\")\n",
        "df.head()"
      ],
      "execution_count": null,
      "outputs": [
        {
          "output_type": "execute_result",
          "data": {
            "text/html": [
              "<div>\n",
              "<style scoped>\n",
              "    .dataframe tbody tr th:only-of-type {\n",
              "        vertical-align: middle;\n",
              "    }\n",
              "\n",
              "    .dataframe tbody tr th {\n",
              "        vertical-align: top;\n",
              "    }\n",
              "\n",
              "    .dataframe thead th {\n",
              "        text-align: right;\n",
              "    }\n",
              "</style>\n",
              "<table border=\"1\" class=\"dataframe\">\n",
              "  <thead>\n",
              "    <tr style=\"text-align: right;\">\n",
              "      <th></th>\n",
              "      <th>Fever</th>\n",
              "      <th>Cough</th>\n",
              "      <th>Breathing_issues</th>\n",
              "      <th>Infected</th>\n",
              "    </tr>\n",
              "  </thead>\n",
              "  <tbody>\n",
              "    <tr>\n",
              "      <th>0</th>\n",
              "      <td>No</td>\n",
              "      <td>No</td>\n",
              "      <td>No</td>\n",
              "      <td>No</td>\n",
              "    </tr>\n",
              "    <tr>\n",
              "      <th>1</th>\n",
              "      <td>Yes</td>\n",
              "      <td>Yes</td>\n",
              "      <td>Yes</td>\n",
              "      <td>Yes</td>\n",
              "    </tr>\n",
              "    <tr>\n",
              "      <th>2</th>\n",
              "      <td>Yes</td>\n",
              "      <td>Yes</td>\n",
              "      <td>No</td>\n",
              "      <td>No</td>\n",
              "    </tr>\n",
              "    <tr>\n",
              "      <th>3</th>\n",
              "      <td>Yes</td>\n",
              "      <td>No</td>\n",
              "      <td>Yes</td>\n",
              "      <td>Yes</td>\n",
              "    </tr>\n",
              "    <tr>\n",
              "      <th>4</th>\n",
              "      <td>Yes</td>\n",
              "      <td>Yes</td>\n",
              "      <td>Yes</td>\n",
              "      <td>Yes</td>\n",
              "    </tr>\n",
              "  </tbody>\n",
              "</table>\n",
              "</div>"
            ],
            "text/plain": [
              "  Fever Cough Breathing_issues Infected\n",
              "0    No    No               No       No\n",
              "1   Yes   Yes              Yes      Yes\n",
              "2   Yes   Yes               No       No\n",
              "3   Yes    No              Yes      Yes\n",
              "4   Yes   Yes              Yes      Yes"
            ]
          },
          "metadata": {
            "tags": []
          },
          "execution_count": 11
        }
      ]
    },
    {
      "cell_type": "markdown",
      "metadata": {
        "id": "Ux5reoTQZmmJ"
      },
      "source": [
        "###Dataset that used"
      ]
    },
    {
      "cell_type": "code",
      "metadata": {
        "id": "U_Shup31ooFD",
        "colab": {
          "base_uri": "https://localhost:8080/",
          "height": 206
        },
        "outputId": "023a1fcf-06a0-4046-fe9f-29da7cfcc8ed"
      },
      "source": [
        "#Write the data attibutes and values\n",
        "_raw_data = \"\"\"Outlook,Temperature,Humidity,Wind,Play\n",
        "Sunny,Hot,High,Weak,No\n",
        "Sunny,Hot,High,Strong,No\n",
        "Overcast,Hot,High,Weak,Yes\n",
        "Rain,Mild,High,Weak,Yes\n",
        "Rain,Cool,Normal,Weak,Yes\n",
        "Overcast,Cool,Normal,Strong,Yes\n",
        "Sunny,Cool,Normal,Strong,Yes\n",
        "Sunny,Mild,High,Weak,No\n",
        "Rain,Cool,Normal,Weak,Yes\n",
        "Sunny,Mild,Normal,Weak,Yes\n",
        "Overcast,Mild,Normal,Strong,Yes\n",
        "Overcast,Hot,Normal,Strong,Yes\n",
        "\"\"\"\n",
        "#Store it to the 'Tennis.csv' file\n",
        "with open(\"Tennis.csv\", \"w\") as f:\n",
        "    f.write(_raw_data)\n",
        "df = pd.read_csv(\"Tennis.csv\")\n",
        "df.head() #display first 5 rows of the"
      ],
      "execution_count": null,
      "outputs": [
        {
          "output_type": "execute_result",
          "data": {
            "text/html": [
              "<div>\n",
              "<style scoped>\n",
              "    .dataframe tbody tr th:only-of-type {\n",
              "        vertical-align: middle;\n",
              "    }\n",
              "\n",
              "    .dataframe tbody tr th {\n",
              "        vertical-align: top;\n",
              "    }\n",
              "\n",
              "    .dataframe thead th {\n",
              "        text-align: right;\n",
              "    }\n",
              "</style>\n",
              "<table border=\"1\" class=\"dataframe\">\n",
              "  <thead>\n",
              "    <tr style=\"text-align: right;\">\n",
              "      <th></th>\n",
              "      <th>Outlook</th>\n",
              "      <th>Temperature</th>\n",
              "      <th>Humidity</th>\n",
              "      <th>Wind</th>\n",
              "      <th>Play</th>\n",
              "    </tr>\n",
              "  </thead>\n",
              "  <tbody>\n",
              "    <tr>\n",
              "      <th>0</th>\n",
              "      <td>Sunny</td>\n",
              "      <td>Hot</td>\n",
              "      <td>High</td>\n",
              "      <td>Weak</td>\n",
              "      <td>No</td>\n",
              "    </tr>\n",
              "    <tr>\n",
              "      <th>1</th>\n",
              "      <td>Sunny</td>\n",
              "      <td>Hot</td>\n",
              "      <td>High</td>\n",
              "      <td>Strong</td>\n",
              "      <td>No</td>\n",
              "    </tr>\n",
              "    <tr>\n",
              "      <th>2</th>\n",
              "      <td>Overcast</td>\n",
              "      <td>Hot</td>\n",
              "      <td>High</td>\n",
              "      <td>Weak</td>\n",
              "      <td>Yes</td>\n",
              "    </tr>\n",
              "    <tr>\n",
              "      <th>3</th>\n",
              "      <td>Rain</td>\n",
              "      <td>Mild</td>\n",
              "      <td>High</td>\n",
              "      <td>Weak</td>\n",
              "      <td>Yes</td>\n",
              "    </tr>\n",
              "    <tr>\n",
              "      <th>4</th>\n",
              "      <td>Rain</td>\n",
              "      <td>Cool</td>\n",
              "      <td>Normal</td>\n",
              "      <td>Weak</td>\n",
              "      <td>Yes</td>\n",
              "    </tr>\n",
              "  </tbody>\n",
              "</table>\n",
              "</div>"
            ],
            "text/plain": [
              "    Outlook Temperature Humidity    Wind Play\n",
              "0     Sunny         Hot     High    Weak   No\n",
              "1     Sunny         Hot     High  Strong   No\n",
              "2  Overcast         Hot     High    Weak  Yes\n",
              "3      Rain        Mild     High    Weak  Yes\n",
              "4      Rain        Cool   Normal    Weak  Yes"
            ]
          },
          "metadata": {
            "tags": []
          },
          "execution_count": 12
        }
      ]
    },
    {
      "cell_type": "markdown",
      "metadata": {
        "id": "ALLKrDrdHQR0"
      },
      "source": [
        "##Entropy Computation Function\n",
        "The definition of Entropy ![gambar.png](data:image/png;base64,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), where i runs over over possible outcomes."
      ]
    },
    {
      "cell_type": "code",
      "metadata": {
        "id": "plxKspGcHVnq"
      },
      "source": [
        "def compute_entropy(y):\n",
        "    if len(y) < 2: #  a trivial case\n",
        "        return 0\n",
        "        \n",
        "    #calculate the probability of class element\n",
        "    freq = np.array(y.value_counts(normalize=True))\n",
        "    #calculate the entropy\n",
        "    formula = -(freq * np.log2(freq + 1e-6)).sum()\n",
        "    return formula"
      ],
      "execution_count": null,
      "outputs": []
    },
    {
      "cell_type": "markdown",
      "metadata": {
        "id": "3c9M9w1XWEX6"
      },
      "source": [
        "##Information gain computation Function\n",
        "\n"
      ]
    },
    {
      "cell_type": "code",
      "metadata": {
        "id": "2X4N42Q6WWSF"
      },
      "source": [
        "def compute_info_gain(samples, attr, target):\n",
        "    values = samples[attr].value_counts(normalize=True)\n",
        "    split_ent = 0\n",
        "    \n",
        "    #iterate the features/attributes in the dataset to get children entropy\n",
        "    for v, fr in values.iteritems(): #fr is the weight average of features/attributes\n",
        "        index = samples[attr]==v\n",
        "        sub_ent = compute_entropy(target[index]) #pass it to compute_entropy()\n",
        "        split_ent += fr * sub_ent #children entropy\n",
        "    \n",
        "    ent = compute_entropy(target) #parent entropy\n",
        "    ig = ent - split_ent #information gain\n",
        "    return ig"
      ],
      "execution_count": null,
      "outputs": []
    },
    {
      "cell_type": "markdown",
      "metadata": {
        "id": "lK-E1TM6HWGn"
      },
      "source": [
        "##Build the Decision Tree"
      ]
    },
    {
      "cell_type": "code",
      "metadata": {
        "id": "CUQf0UpdHp35"
      },
      "source": [
        "class TreeNode:\n",
        "\n",
        "    def __init__(self):\n",
        "        self.children = {} # Sub nodes (children nodes)\n",
        "        self.decision = None # Undecided value to stored the \n",
        "                             # decision value later after model fitting\n",
        "        self.split_feat_name = None # Splitting feature/attribute\n",
        "\n",
        "    #printing the information of spliting attibutes and the decision\n",
        "    def pretty_print(self, prefix=''): \n",
        "        if self.split_feat_name is not None:\n",
        "            for k, v in self.children.items():\n",
        "                v.pretty_print(f\"{prefix}:When {self.split_feat_name} is {k}\")\n",
        "        else:\n",
        "            print(f\"{prefix}:{self.decision}\")\n",
        "\n",
        "    #evaluate the model prediction performace with test data\n",
        "    def predict(self, sample): \n",
        "        if self.decision is not None:\n",
        "            print(\"Decision:\", self.decision)\n",
        "            return self.decision\n",
        "        else:\n",
        "            #get the value of the attribute and split attibutes based on \n",
        "            #the attibute spliting before in fit()\n",
        "            attr_val = sample[self.split_feat_name]\n",
        "            child = self.children[attr_val]\n",
        "\n",
        "            #print the splitting attribute and the coresponding attibute value\n",
        "            print(\"Testing \", self.split_feat_name, \"->\", attr_val)\n",
        "            \n",
        "            #go back to this function to print the decision (if option)\n",
        "            return child.predict(sample)\n",
        "\n",
        "    #fitting the model\n",
        "    def fit(self, X, y): \n",
        "        if len(X) == 0: # If the data is empty when this node is arrived, \n",
        "            self.decision = \"Yes\" #make an arbitrary decision as the self.decision value\n",
        "            return\n",
        "        else: \n",
        "            unique_values = y.unique()\n",
        "            if len(unique_values) == 1:\n",
        "                self.decision = unique_values[0]\n",
        "                return\n",
        "            else:\n",
        "                info_gain_max = 0\n",
        "                #Finding the best split bye examining each info gain of the attributes\n",
        "                for a in X.keys():\n",
        "                    aig = compute_info_gain(X, a, y)\n",
        "                    if aig > info_gain_max:\n",
        "                        info_gain_max = aig\n",
        "                        self.split_feat_name = a\n",
        "                #Best split found\n",
        "                print(f\"Split by {self.split_feat_name}, IG: {info_gain_max:.2f}\")\n",
        "                self.children = {}\n",
        "                for v in X[self.split_feat_name].unique():\n",
        "                    index = X[self.split_feat_name] == v\n",
        "                    self.children[v] = TreeNode()\n",
        "                    self.children[v].fit(X[index], y[index])\n"
      ],
      "execution_count": null,
      "outputs": []
    },
    {
      "cell_type": "markdown",
      "metadata": {
        "id": "AzlfrR3GrGoi"
      },
      "source": [
        "##Split the dataset"
      ]
    },
    {
      "cell_type": "code",
      "metadata": {
        "id": "OIjSw2r_hkm3"
      },
      "source": [
        "#divide the dataset into data(observed attributes) and target\n",
        "\n",
        "attrs = ['Outlook','Temperature','Humidity','Wind']\n",
        "data = df[attrs]\n",
        "target = df.Play\n",
        "\n",
        "#split it into train and test data\n",
        "X_train70, X_test30, y_train70, y_test30 = train_test_split(data, target, test_size=0.3, random_state=1) # 70% training and 30% test\n",
        "X_train80, X_test20, y_train80, y_test20 = train_test_split(data, target, test_size=0.2, random_state=1) # 80% training and 20% test"
      ],
      "execution_count": null,
      "outputs": []
    },
    {
      "cell_type": "markdown",
      "metadata": {
        "id": "Lk42MuQgYL_N"
      },
      "source": [
        "##Fit the model"
      ]
    },
    {
      "cell_type": "markdown",
      "metadata": {
        "id": "Ylk0VVWnv85V"
      },
      "source": [
        "###Evaluate the model with data and target"
      ]
    },
    {
      "cell_type": "code",
      "metadata": {
        "id": "D10lboUZ9Zko",
        "colab": {
          "base_uri": "https://localhost:8080/"
        },
        "outputId": "8631d747-d615-4452-aa46-88f78e2e4d7d"
      },
      "source": [
        "ID3model = TreeNode()\n",
        "ID3model.fit(data,target)\n",
        "ID3model.pretty_print()"
      ],
      "execution_count": null,
      "outputs": [
        {
          "output_type": "stream",
          "text": [
            "Split by Humidity, IG: 0.41\n",
            "Split by Outlook, IG: 0.97\n",
            ":When Humidity is High:When Outlook is Sunny:No\n",
            ":When Humidity is High:When Outlook is Overcast:Yes\n",
            ":When Humidity is High:When Outlook is Rain:Yes\n",
            ":When Humidity is Normal:Yes\n"
          ],
          "name": "stdout"
        }
      ]
    },
    {
      "cell_type": "markdown",
      "metadata": {
        "id": "URS7Xue3wOrn"
      },
      "source": [
        "###Evaluate the model with X_train70 and y_train70 in ratio 70:30"
      ]
    },
    {
      "cell_type": "code",
      "metadata": {
        "id": "hOe87PNOwai2",
        "colab": {
          "base_uri": "https://localhost:8080/"
        },
        "outputId": "df663969-560d-4dcc-e715-10ae1cc6e92e"
      },
      "source": [
        "ID3model = TreeNode()\n",
        "ID3model.fit(X_train70,y_train70)\n",
        "ID3model.pretty_print()"
      ],
      "execution_count": null,
      "outputs": [
        {
          "output_type": "stream",
          "text": [
            "Split by Humidity, IG: 0.95\n",
            ":When Humidity is High:No\n",
            ":When Humidity is Normal:Yes\n"
          ],
          "name": "stdout"
        }
      ]
    },
    {
      "cell_type": "markdown",
      "metadata": {
        "id": "0AV4JR1PweX6"
      },
      "source": [
        "###Evaluate the model with X_train80 and y_train80 in ratio 80:20"
      ]
    },
    {
      "cell_type": "code",
      "metadata": {
        "id": "KO2iKmM7wkbu",
        "colab": {
          "base_uri": "https://localhost:8080/"
        },
        "outputId": "aa5e0019-9014-455d-d50b-17fdcbaf1677"
      },
      "source": [
        "ID3model = TreeNode()\n",
        "ID3model.fit(X_train80,y_train80)\n",
        "ID3model.pretty_print()"
      ],
      "execution_count": null,
      "outputs": [
        {
          "output_type": "stream",
          "text": [
            "Split by Humidity, IG: 0.92\n",
            ":When Humidity is Normal:Yes\n",
            ":When Humidity is High:No\n"
          ],
          "name": "stdout"
        }
      ]
    },
    {
      "cell_type": "markdown",
      "metadata": {
        "id": "jX20wypJYYde"
      },
      "source": [
        "##Test the model"
      ]
    },
    {
      "cell_type": "markdown",
      "metadata": {
        "id": "Z1RQo5U52-s0"
      },
      "source": [
        "###Predict the X_test and y_test with ratio 80:20"
      ]
    },
    {
      "cell_type": "code",
      "metadata": {
        "id": "TEbb3AyY2-0k",
        "colab": {
          "base_uri": "https://localhost:8080/"
        },
        "outputId": "bb3586c6-a5d3-4603-f31d-9d6d0dd47b3a"
      },
      "source": [
        "#Test tree model in test data \n",
        "for i in [0,1,2]: #X_test and y_test has 3 indexes\n",
        "    print(f\"Test predict sample[{i}]: \\n{X_test20.iloc[i]}\\n\\tTarget: {y_test20.iloc[i]}\")\n",
        "    print(f\"Making decision ...\")\n",
        "    pred = ID3model.predict(X_test20.iloc[i])"
      ],
      "execution_count": null,
      "outputs": [
        {
          "output_type": "stream",
          "text": [
            "Test predict sample[0]: \n",
            "Outlook        Overcast\n",
            "Temperature         Hot\n",
            "Humidity           High\n",
            "Wind               Weak\n",
            "Name: 2, dtype: object\n",
            "\tTarget: Yes\n",
            "Making decision ...\n",
            "Testing  Humidity -> High\n",
            "Decision: No\n",
            "Test predict sample[1]: \n",
            "Outlook        Rain\n",
            "Temperature    Mild\n",
            "Humidity       High\n",
            "Wind           Weak\n",
            "Name: 3, dtype: object\n",
            "\tTarget: Yes\n",
            "Making decision ...\n",
            "Testing  Humidity -> High\n",
            "Decision: No\n",
            "Test predict sample[2]: \n",
            "Outlook          Rain\n",
            "Temperature      Cool\n",
            "Humidity       Normal\n",
            "Wind             Weak\n",
            "Name: 4, dtype: object\n",
            "\tTarget: Yes\n",
            "Making decision ...\n",
            "Testing  Humidity -> Normal\n",
            "Decision: Yes\n"
          ],
          "name": "stdout"
        }
      ]
    },
    {
      "cell_type": "markdown",
      "metadata": {
        "id": "PFa4oqY_2--D"
      },
      "source": [
        "###Predict the X_test and y_test in ratio 70:30"
      ]
    },
    {
      "cell_type": "code",
      "metadata": {
        "id": "5WEHWkMo2_HT",
        "colab": {
          "base_uri": "https://localhost:8080/"
        },
        "outputId": "751e8fcd-fe37-483e-8f80-279a69addf83"
      },
      "source": [
        "#Test tree model in test data \n",
        "for i in [0,1,2,3]: #X_test and y_test has 4 indexes\n",
        "    print(f\"Test predict sample[{i}]: \\n{X_test30.iloc[i]}\\n\\tTarget: {y_test30.iloc[i]}\")\n",
        "    print(f\"Making decision ...\")\n",
        "    pred = ID3model.predict(X_test30.iloc[i])"
      ],
      "execution_count": null,
      "outputs": [
        {
          "output_type": "stream",
          "text": [
            "Test predict sample[0]: \n",
            "Outlook        Overcast\n",
            "Temperature         Hot\n",
            "Humidity           High\n",
            "Wind               Weak\n",
            "Name: 2, dtype: object\n",
            "\tTarget: Yes\n",
            "Making decision ...\n",
            "Testing  Humidity -> High\n",
            "Decision: No\n",
            "Test predict sample[1]: \n",
            "Outlook        Rain\n",
            "Temperature    Mild\n",
            "Humidity       High\n",
            "Wind           Weak\n",
            "Name: 3, dtype: object\n",
            "\tTarget: Yes\n",
            "Making decision ...\n",
            "Testing  Humidity -> High\n",
            "Decision: No\n",
            "Test predict sample[2]: \n",
            "Outlook          Rain\n",
            "Temperature      Cool\n",
            "Humidity       Normal\n",
            "Wind             Weak\n",
            "Name: 4, dtype: object\n",
            "\tTarget: Yes\n",
            "Making decision ...\n",
            "Testing  Humidity -> Normal\n",
            "Decision: Yes\n",
            "Test predict sample[3]: \n",
            "Outlook        Overcast\n",
            "Temperature        Mild\n",
            "Humidity         Normal\n",
            "Wind             Strong\n",
            "Name: 10, dtype: object\n",
            "\tTarget: Yes\n",
            "Making decision ...\n",
            "Testing  Humidity -> Normal\n",
            "Decision: Yes\n"
          ],
          "name": "stdout"
        }
      ]
    },
    {
      "cell_type": "markdown",
      "metadata": {
        "id": "pb2PoAEs2_l5"
      },
      "source": [
        "###Predict the dataset without splitting"
      ]
    },
    {
      "cell_type": "code",
      "metadata": {
        "id": "luHNNfXdcwry",
        "colab": {
          "base_uri": "https://localhost:8080/"
        },
        "outputId": "94ad981a-0c9f-4ccc-b20e-fcfa290ece16"
      },
      "source": [
        "#Test tree model in the same data for model training (without splitting) \n",
        "for i in [4,7,11]:\n",
        "    print(f\"Test predict sample[{i}]: \\n{data.iloc[i]}\\n\\tTarget: {target.iloc[i]}\")\n",
        "    print(f\"Making decision ...\")\n",
        "    pred = ID3model.predict(data.iloc[i])"
      ],
      "execution_count": null,
      "outputs": [
        {
          "output_type": "stream",
          "text": [
            "Test predict sample[4]: \n",
            "Outlook          Rain\n",
            "Temperature      Cool\n",
            "Humidity       Normal\n",
            "Wind             Weak\n",
            "Name: 4, dtype: object\n",
            "\tTarget: Yes\n",
            "Making decision ...\n",
            "Testing  Humidity -> Normal\n",
            "Decision: Yes\n",
            "Test predict sample[7]: \n",
            "Outlook        Sunny\n",
            "Temperature     Mild\n",
            "Humidity        High\n",
            "Wind            Weak\n",
            "Name: 7, dtype: object\n",
            "\tTarget: No\n",
            "Making decision ...\n",
            "Testing  Humidity -> High\n",
            "Decision: No\n",
            "Test predict sample[11]: \n",
            "Outlook        Overcast\n",
            "Temperature         Hot\n",
            "Humidity         Normal\n",
            "Wind             Strong\n",
            "Name: 11, dtype: object\n",
            "\tTarget: Yes\n",
            "Making decision ...\n",
            "Testing  Humidity -> Normal\n",
            "Decision: Yes\n"
          ],
          "name": "stdout"
        }
      ]
    },
    {
      "cell_type": "code",
      "metadata": {
        "id": "HzdRdZms_oqv"
      },
      "source": [
        ""
      ],
      "execution_count": null,
      "outputs": []
    }
  ]
}